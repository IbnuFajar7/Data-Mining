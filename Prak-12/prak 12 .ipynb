{
 "cells": [
  {
   "cell_type": "code",
   "execution_count": 1,
   "id": "d8523da7",
   "metadata": {},
   "outputs": [],
   "source": [
    "import numpy as np # linear algebra\n",
    "import pandas as pd # data processing, CSV file I/O (e.g. pd.read_csv)\n",
    "import matplotlib.pyplot as plt # for data visualization\n",
    "import seaborn as sns # for statistical data visualization\n",
    "%matplotlib inline"
   ]
  },
  {
   "cell_type": "code",
   "execution_count": 2,
   "id": "7ab979fc",
   "metadata": {},
   "outputs": [],
   "source": [
    "import warnings"
   ]
  },
  {
   "cell_type": "code",
   "execution_count": 3,
   "id": "bc478492",
   "metadata": {},
   "outputs": [],
   "source": [
    "warnings.filterwarnings('ignore')"
   ]
  },
  {
   "cell_type": "code",
   "execution_count": 4,
   "id": "20cf2ee7",
   "metadata": {},
   "outputs": [],
   "source": [
    "df = pd.read_csv(\"fact_harga.csv\")"
   ]
  },
  {
   "cell_type": "code",
   "execution_count": 5,
   "id": "ed2d599e",
   "metadata": {},
   "outputs": [
    {
     "data": {
      "text/plain": [
       "(33339, 5)"
      ]
     },
     "execution_count": 5,
     "metadata": {},
     "output_type": "execute_result"
    }
   ],
   "source": [
    "# melihat dimensi dataset\n",
    "df.shape"
   ]
  },
  {
   "cell_type": "code",
   "execution_count": 6,
   "id": "762f0dd3",
   "metadata": {},
   "outputs": [
    {
     "data": {
      "text/html": [
       "<div>\n",
       "<style scoped>\n",
       "    .dataframe tbody tr th:only-of-type {\n",
       "        vertical-align: middle;\n",
       "    }\n",
       "\n",
       "    .dataframe tbody tr th {\n",
       "        vertical-align: top;\n",
       "    }\n",
       "\n",
       "    .dataframe thead th {\n",
       "        text-align: right;\n",
       "    }\n",
       "</style>\n",
       "<table border=\"1\" class=\"dataframe\">\n",
       "  <thead>\n",
       "    <tr style=\"text-align: right;\">\n",
       "      <th></th>\n",
       "      <th>id</th>\n",
       "      <th>SK_DATE</th>\n",
       "      <th>SK_RICE_TYPE</th>\n",
       "      <th>SK_MARKET</th>\n",
       "      <th>PRICE</th>\n",
       "    </tr>\n",
       "  </thead>\n",
       "  <tbody>\n",
       "    <tr>\n",
       "      <th>0</th>\n",
       "      <td>1</td>\n",
       "      <td>20170101</td>\n",
       "      <td>1</td>\n",
       "      <td>0</td>\n",
       "      <td>13500</td>\n",
       "    </tr>\n",
       "    <tr>\n",
       "      <th>1</th>\n",
       "      <td>2</td>\n",
       "      <td>20170101</td>\n",
       "      <td>2</td>\n",
       "      <td>0</td>\n",
       "      <td>12350</td>\n",
       "    </tr>\n",
       "    <tr>\n",
       "      <th>2</th>\n",
       "      <td>3</td>\n",
       "      <td>20170101</td>\n",
       "      <td>3</td>\n",
       "      <td>0</td>\n",
       "      <td>12100</td>\n",
       "    </tr>\n",
       "    <tr>\n",
       "      <th>3</th>\n",
       "      <td>4</td>\n",
       "      <td>20170101</td>\n",
       "      <td>4</td>\n",
       "      <td>0</td>\n",
       "      <td>11500</td>\n",
       "    </tr>\n",
       "    <tr>\n",
       "      <th>4</th>\n",
       "      <td>5</td>\n",
       "      <td>20170101</td>\n",
       "      <td>5</td>\n",
       "      <td>0</td>\n",
       "      <td>10400</td>\n",
       "    </tr>\n",
       "  </tbody>\n",
       "</table>\n",
       "</div>"
      ],
      "text/plain": [
       "   id   SK_DATE  SK_RICE_TYPE  SK_MARKET  PRICE\n",
       "0   1  20170101             1          0  13500\n",
       "1   2  20170101             2          0  12350\n",
       "2   3  20170101             3          0  12100\n",
       "3   4  20170101             4          0  11500\n",
       "4   5  20170101             5          0  10400"
      ]
     },
     "execution_count": 6,
     "metadata": {},
     "output_type": "execute_result"
    }
   ],
   "source": [
    "# melihat dataset\n",
    "df.head()"
   ]
  },
  {
   "cell_type": "code",
   "execution_count": 7,
   "id": "2aabbf5b",
   "metadata": {},
   "outputs": [
    {
     "data": {
      "text/plain": [
       "Index(['id', 'SK_DATE', 'SK_RICE_TYPE', 'SK_MARKET', 'PRICE'], dtype='object')"
      ]
     },
     "execution_count": 7,
     "metadata": {},
     "output_type": "execute_result"
    }
   ],
   "source": [
    "# melihat nama kolom pada dataframe\n",
    "col_names = df.columns\n",
    "col_names"
   ]
  },
  {
   "cell_type": "code",
   "execution_count": 8,
   "id": "cf7495d9",
   "metadata": {},
   "outputs": [
    {
     "name": "stdout",
     "output_type": "stream",
     "text": [
      "<class 'pandas.core.frame.DataFrame'>\n",
      "RangeIndex: 33339 entries, 0 to 33338\n",
      "Data columns (total 5 columns):\n",
      " #   Column        Non-Null Count  Dtype\n",
      "---  ------        --------------  -----\n",
      " 0   id            33339 non-null  int64\n",
      " 1   SK_DATE       33339 non-null  int64\n",
      " 2   SK_RICE_TYPE  33339 non-null  int64\n",
      " 3   SK_MARKET     33339 non-null  int64\n",
      " 4   PRICE         33339 non-null  int64\n",
      "dtypes: int64(5)\n",
      "memory usage: 1.3 MB\n"
     ]
    }
   ],
   "source": [
    "# melihat summary dari dataset\n",
    "df.info()"
   ]
  },
  {
   "cell_type": "code",
   "execution_count": 9,
   "id": "8a418ede",
   "metadata": {},
   "outputs": [
    {
     "data": {
      "text/plain": [
       "id              0\n",
       "SK_DATE         0\n",
       "SK_RICE_TYPE    0\n",
       "SK_MARKET       0\n",
       "PRICE           0\n",
       "dtype: int64"
      ]
     },
     "execution_count": 9,
     "metadata": {},
     "output_type": "execute_result"
    }
   ],
   "source": [
    "# cek adanya missing value\n",
    "df.isnull().sum()"
   ]
  },
  {
   "cell_type": "code",
   "execution_count": 10,
   "id": "cba7d584",
   "metadata": {},
   "outputs": [
    {
     "data": {
      "text/html": [
       "<div>\n",
       "<style scoped>\n",
       "    .dataframe tbody tr th:only-of-type {\n",
       "        vertical-align: middle;\n",
       "    }\n",
       "\n",
       "    .dataframe tbody tr th {\n",
       "        vertical-align: top;\n",
       "    }\n",
       "\n",
       "    .dataframe thead th {\n",
       "        text-align: right;\n",
       "    }\n",
       "</style>\n",
       "<table border=\"1\" class=\"dataframe\">\n",
       "  <thead>\n",
       "    <tr style=\"text-align: right;\">\n",
       "      <th></th>\n",
       "      <th>id</th>\n",
       "      <th>SK_DATE</th>\n",
       "      <th>SK_RICE_TYPE</th>\n",
       "      <th>SK_MARKET</th>\n",
       "      <th>PRICE</th>\n",
       "    </tr>\n",
       "  </thead>\n",
       "  <tbody>\n",
       "    <tr>\n",
       "      <th>count</th>\n",
       "      <td>33339.00</td>\n",
       "      <td>33339.00</td>\n",
       "      <td>33339.00</td>\n",
       "      <td>33339.00</td>\n",
       "      <td>33339.00</td>\n",
       "    </tr>\n",
       "    <tr>\n",
       "      <th>mean</th>\n",
       "      <td>16670.00</td>\n",
       "      <td>20178739.06</td>\n",
       "      <td>7.66</td>\n",
       "      <td>11.38</td>\n",
       "      <td>11628.06</td>\n",
       "    </tr>\n",
       "    <tr>\n",
       "      <th>std</th>\n",
       "      <td>9624.28</td>\n",
       "      <td>9309.65</td>\n",
       "      <td>3.34</td>\n",
       "      <td>12.39</td>\n",
       "      <td>2810.76</td>\n",
       "    </tr>\n",
       "    <tr>\n",
       "      <th>min</th>\n",
       "      <td>1.00</td>\n",
       "      <td>20160101.00</td>\n",
       "      <td>1.00</td>\n",
       "      <td>0.00</td>\n",
       "      <td>0.00</td>\n",
       "    </tr>\n",
       "    <tr>\n",
       "      <th>25%</th>\n",
       "      <td>8335.50</td>\n",
       "      <td>20170919.00</td>\n",
       "      <td>5.00</td>\n",
       "      <td>0.00</td>\n",
       "      <td>10000.00</td>\n",
       "    </tr>\n",
       "    <tr>\n",
       "      <th>50%</th>\n",
       "      <td>16670.00</td>\n",
       "      <td>20181121.00</td>\n",
       "      <td>8.00</td>\n",
       "      <td>7.00</td>\n",
       "      <td>11500.00</td>\n",
       "    </tr>\n",
       "    <tr>\n",
       "      <th>75%</th>\n",
       "      <td>25004.50</td>\n",
       "      <td>20181227.00</td>\n",
       "      <td>10.00</td>\n",
       "      <td>22.00</td>\n",
       "      <td>12725.00</td>\n",
       "    </tr>\n",
       "    <tr>\n",
       "      <th>max</th>\n",
       "      <td>33339.00</td>\n",
       "      <td>20190131.00</td>\n",
       "      <td>14.00</td>\n",
       "      <td>38.00</td>\n",
       "      <td>28000.00</td>\n",
       "    </tr>\n",
       "  </tbody>\n",
       "</table>\n",
       "</div>"
      ],
      "text/plain": [
       "             id      SK_DATE  SK_RICE_TYPE  SK_MARKET     PRICE\n",
       "count  33339.00     33339.00      33339.00   33339.00  33339.00\n",
       "mean   16670.00  20178739.06          7.66      11.38  11628.06\n",
       "std     9624.28      9309.65          3.34      12.39   2810.76\n",
       "min        1.00  20160101.00          1.00       0.00      0.00\n",
       "25%     8335.50  20170919.00          5.00       0.00  10000.00\n",
       "50%    16670.00  20181121.00          8.00       7.00  11500.00\n",
       "75%    25004.50  20181227.00         10.00      22.00  12725.00\n",
       "max    33339.00  20190131.00         14.00      38.00  28000.00"
      ]
     },
     "execution_count": 10,
     "metadata": {},
     "output_type": "execute_result"
    }
   ],
   "source": [
    "# melihat statistik summary pada variabel numerik\n",
    "round(df.describe(),2)"
   ]
  },
  {
   "cell_type": "code",
   "execution_count": 11,
   "id": "8ae2bb66",
   "metadata": {},
   "outputs": [
    {
     "data": {
      "text/plain": [
       "Text(0, 0.5, 'PRICE')"
      ]
     },
     "execution_count": 11,
     "metadata": {},
     "output_type": "execute_result"
    },
    {
     "data": {
      "image/png": "[encoded data removed]",
      "text/plain": [
       "<Figure size 1728x1440 with 3 Axes>"
      ]
     },
     "metadata": {
      "needs_background": "light"
     },
     "output_type": "display_data"
    }
   ],
   "source": [
    "# menggambarkan boxplots untuk visualisasi outlier\n",
    "plt.figure(figsize=(24,20))\n",
    "\n",
    "plt.subplot(4, 2, 3)\n",
    "fig = df.boxplot(column='SK_RICE_TYPE')\n",
    "fig.set_title('')\n",
    "fig.set_ylabel('SK_RICE_TYPE')\n",
    "\n",
    "plt.subplot(4, 2, 4)\n",
    "fig = df.boxplot(column='SK_MARKET')\n",
    "fig.set_title('')\n",
    "fig.set_ylabel('SK_MARKET')\n",
    "\n",
    "plt.subplot(4, 2, 5)\n",
    "fig = df.boxplot(column='PRICE')\n",
    "fig.set_title('')\n",
    "fig.set_ylabel('PRICE')"
   ]
  },
  {
   "cell_type": "code",
   "execution_count": 12,
   "id": "5d4f6359",
   "metadata": {},
   "outputs": [
    {
     "data": {
      "text/plain": [
       "Text(0, 0.5, 'Number of ...')"
      ]
     },
     "execution_count": 12,
     "metadata": {},
     "output_type": "execute_result"
    },
    {
     "data": {
      "image/png": "[encoded data removed]",
      "text/plain": [
       "<Figure size 1728x1440 with 3 Axes>"
      ]
     },
     "metadata": {
      "needs_background": "light"
     },
     "output_type": "display_data"
    }
   ],
   "source": [
    "# plot histogram untuk mengecek distribusi\n",
    "plt.figure(figsize=(24,20))\n",
    "\n",
    "plt.subplot(4, 2, 3)\n",
    "fig = df['SK_RICE_TYPE'].hist(bins=20)\n",
    "fig.set_xlabel('SK_RICE_TYPE')\n",
    "fig.set_ylabel('Number of ...')\n",
    "\n",
    "plt.subplot(4, 2, 4)\n",
    "fig = df['SK_MARKET'].hist(bins=20)\n",
    "fig.set_xlabel('SK_MARKET')\n",
    "fig.set_ylabel('Number of ...')\n",
    "\n",
    "plt.subplot(4, 2, 5)\n",
    "fig = df['PRICE'].hist(bins=20)\n",
    "fig.set_xlabel('PRICE')\n",
    "fig.set_ylabel('Number of ...')"
   ]
  },
  {
   "cell_type": "code",
   "execution_count": 13,
   "id": "3bd0838a",
   "metadata": {},
   "outputs": [
    {
     "data": {
      "text/plain": [
       "((26671, 4), (6668, 4))"
      ]
     },
     "execution_count": 13,
     "metadata": {},
     "output_type": "execute_result"
    }
   ],
   "source": [
    "X = df.drop(['PRICE'], axis=1)\n",
    "y = df['PRICE']\n",
    "\n",
    "# split X and y into training and testing sets\n",
    "from sklearn.model_selection import train_test_split\n",
    "\n",
    "X_train, X_test, y_train, y_test = train_test_split(X, y, test_size = 0.2, random_state = 0)\n",
    "\n",
    "# check the shape of X_train and X_test\n",
    "X_train.shape, X_test.shape\n"
   ]
  },
  {
   "cell_type": "code",
   "execution_count": 14,
   "id": "27114492",
   "metadata": {},
   "outputs": [
    {
     "data": {
      "text/html": [
       "<div>\n",
       "<style scoped>\n",
       "    .dataframe tbody tr th:only-of-type {\n",
       "        vertical-align: middle;\n",
       "    }\n",
       "\n",
       "    .dataframe tbody tr th {\n",
       "        vertical-align: top;\n",
       "    }\n",
       "\n",
       "    .dataframe thead tr th {\n",
       "        text-align: left;\n",
       "    }\n",
       "</style>\n",
       "<table border=\"1\" class=\"dataframe\">\n",
       "  <thead>\n",
       "    <tr>\n",
       "      <th></th>\n",
       "      <th>id</th>\n",
       "      <th>SK_DATE</th>\n",
       "      <th>SK_RICE_TYPE</th>\n",
       "      <th>SK_MARKET</th>\n",
       "    </tr>\n",
       "  </thead>\n",
       "  <tbody>\n",
       "    <tr>\n",
       "      <th>count</th>\n",
       "      <td>2.667100e+04</td>\n",
       "      <td>2.667100e+04</td>\n",
       "      <td>2.667100e+04</td>\n",
       "      <td>2.667100e+04</td>\n",
       "    </tr>\n",
       "    <tr>\n",
       "      <th>mean</th>\n",
       "      <td>-1.031257e-16</td>\n",
       "      <td>1.310739e-13</td>\n",
       "      <td>-3.355354e-16</td>\n",
       "      <td>3.666637e-16</td>\n",
       "    </tr>\n",
       "    <tr>\n",
       "      <th>std</th>\n",
       "      <td>1.000019e+00</td>\n",
       "      <td>1.000019e+00</td>\n",
       "      <td>1.000019e+00</td>\n",
       "      <td>1.000019e+00</td>\n",
       "    </tr>\n",
       "    <tr>\n",
       "      <th>min</th>\n",
       "      <td>-1.730502e+00</td>\n",
       "      <td>-2.002152e+00</td>\n",
       "      <td>-1.999671e+00</td>\n",
       "      <td>-9.204392e-01</td>\n",
       "    </tr>\n",
       "    <tr>\n",
       "      <th>25%</th>\n",
       "      <td>-8.627302e-01</td>\n",
       "      <td>-8.402062e-01</td>\n",
       "      <td>-8.003697e-01</td>\n",
       "      <td>-9.204392e-01</td>\n",
       "    </tr>\n",
       "    <tr>\n",
       "      <th>50%</th>\n",
       "      <td>4.716332e-04</td>\n",
       "      <td>2.557851e-01</td>\n",
       "      <td>9.910614e-02</td>\n",
       "      <td>-3.559564e-01</td>\n",
       "    </tr>\n",
       "    <tr>\n",
       "      <th>75%</th>\n",
       "      <td>8.649199e-01</td>\n",
       "      <td>2.671714e-01</td>\n",
       "      <td>6.987567e-01</td>\n",
       "      <td>8.536496e-01</td>\n",
       "    </tr>\n",
       "    <tr>\n",
       "      <th>max</th>\n",
       "      <td>1.732069e+00</td>\n",
       "      <td>1.223626e+00</td>\n",
       "      <td>1.898058e+00</td>\n",
       "      <td>2.143896e+00</td>\n",
       "    </tr>\n",
       "  </tbody>\n",
       "</table>\n",
       "</div>"
      ],
      "text/plain": [
       "                 id       SK_DATE  SK_RICE_TYPE     SK_MARKET\n",
       "count  2.667100e+04  2.667100e+04  2.667100e+04  2.667100e+04\n",
       "mean  -1.031257e-16  1.310739e-13 -3.355354e-16  3.666637e-16\n",
       "std    1.000019e+00  1.000019e+00  1.000019e+00  1.000019e+00\n",
       "min   -1.730502e+00 -2.002152e+00 -1.999671e+00 -9.204392e-01\n",
       "25%   -8.627302e-01 -8.402062e-01 -8.003697e-01 -9.204392e-01\n",
       "50%    4.716332e-04  2.557851e-01  9.910614e-02 -3.559564e-01\n",
       "75%    8.649199e-01  2.671714e-01  6.987567e-01  8.536496e-01\n",
       "max    1.732069e+00  1.223626e+00  1.898058e+00  2.143896e+00"
      ]
     },
     "execution_count": 14,
     "metadata": {},
     "output_type": "execute_result"
    }
   ],
   "source": [
    "cols = X_train.columns\n",
    "from sklearn.preprocessing import StandardScaler\n",
    "\n",
    "scaler = StandardScaler()\n",
    "\n",
    "X_train = scaler.fit_transform(X_train)\n",
    "X_test = scaler.transform(X_test)\n",
    "\n",
    "X_train = pd.DataFrame(X_train, columns=[cols])\n",
    "X_test = pd.DataFrame(X_test, columns=[cols])\n",
    "\n",
    "X_train.describe()"
   ]
  },
  {
   "cell_type": "code",
   "execution_count": 15,
   "id": "1d156e1d",
   "metadata": {},
   "outputs": [
    {
     "name": "stdout",
     "output_type": "stream",
     "text": [
      "Model accuracy score with default hyperparameters: 0.2469\n"
     ]
    }
   ],
   "source": [
    "# import SVC classifier\n",
    "from sklearn.svm import SVC\n",
    "\n",
    "# import metrics to compute accuracy\n",
    "from sklearn.metrics import accuracy_score\n",
    "\n",
    "# instantiate classifier with default hyperparameters\n",
    "svc=SVC() \n",
    "\n",
    "# fit classifier to training set\n",
    "svc.fit(X_train,y_train)\n",
    "\n",
    "# make predictions on test set\n",
    "y_pred=svc.predict(X_test)\n",
    "\n",
    "# compute and print accuracy score\n",
    "print('Model accuracy score with default hyperparameters: {0:0.4f}'. format(accuracy_score(y_test, y_pred)))"
   ]
  },
  {
   "cell_type": "code",
   "execution_count": 16,
   "id": "cd21e336",
   "metadata": {},
   "outputs": [
    {
     "name": "stdout",
     "output_type": "stream",
     "text": [
      "Model accuracy score with rbf kernel and C=1000.0 : 0.4676\n"
     ]
    }
   ],
   "source": [
    "# instantiate classifier with rbf kernel and C=1000\n",
    "svc=SVC(C=1000.0) \n",
    "\n",
    "# fit classifier to training set\n",
    "svc.fit(X_train,y_train)\n",
    "\n",
    "# make predictions on test set\n",
    "y_pred=svc.predict(X_test)\n",
    "\n",
    "# compute and print accuracy score\n",
    "print('Model accuracy score with rbf kernel and C=1000.0 : {0:0.4f}'. format(accuracy_score(y_test, y_pred)))"
   ]
  },
  {
   "cell_type": "code",
   "execution_count": null,
   "id": "dae7004e",
   "metadata": {},
   "outputs": [],
   "source": []
  }
 ],
 "metadata": {
  "kernelspec": {
   "display_name": "Python 3 (ipykernel)",
   "language": "python",
   "name": "python3"
  },
  "language_info": {
   "codemirror_mode": {
    "name": "ipython",
    "version": 3
   },
   "file_extension": ".py",
   "mimetype": "text/x-python",
   "name": "python",
   "nbconvert_exporter": "python",
   "pygments_lexer": "ipython3",
   "version": "3.9.7"
  }
 },
 "nbformat": 4,
 "nbformat_minor": 5
}
